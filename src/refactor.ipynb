{
 "cells": [
  {
   "cell_type": "code",
   "execution_count": 1,
   "metadata": {},
   "outputs": [
    {
     "name": "stderr",
     "output_type": "stream",
     "text": [
      "/ssddata/wzhangcb/workspace/formalim/python3.11/lib/python3.11/site-packages/tqdm/auto.py:21: TqdmWarning: IProgress not found. Please update jupyter and ipywidgets. See https://ipywidgets.readthedocs.io/en/stable/user_install.html\n",
      "  from .autonotebook import tqdm as notebook_tqdm\n",
      "Saving the dataset (1/1 shards): 100%|██████████| 384/384 [00:00<00:00, 14578.98 examples/s]\n"
     ]
    }
   ],
   "source": [
    "# Sample 384 in repos who's timestamp is in 2023-10-01 -- 2023-12-31\n",
    "from datasets import load_from_disk\n",
    "from datetime import datetime\n",
    "import numpy as np\n",
    "import json\n",
    "\n",
    "data = load_from_disk('../data2/repos-preprocessed-2023')\n",
    "data = data.filter(lambda row: datetime.fromisoformat(f'2023-10-01T00:00:00Z') <= row['last_update_at'] < datetime.fromisoformat(f'2024-01-01T00:00:00Z'), num_proc=200)\n",
    "sample = data.select(np.random.choice(data.num_rows, 384, replace=False))\n",
    "sample.save_to_disk('../data2/repos-preprocessed-2023-oct-dec-sample384')\n",
    "# save as jsonl\n",
    "with open('../data2/repos-preprocessed-2023-oct-dec-sample384.jsonl', 'w') as f:\n",
    "    for row in sample:\n",
    "        row['last_update_at'] = row['last_update_at'].isoformat()\n",
    "        f.write(f\"{json.dumps(row)}\\n\")"
   ]
  },
  {
   "cell_type": "code",
   "execution_count": 2,
   "metadata": {},
   "outputs": [
    {
     "name": "stdout",
     "output_type": "stream",
     "text": [
      "if\n"
     ]
    },
    {
     "name": "stderr",
     "output_type": "stream",
     "text": [
      "100%|███████████████████████████████████████████████████████████████████████████████████████████████████████████████████████████████████████████████████████████████████████| 384/384 [00:00<00:00, 2090.43it/s]\n"
     ]
    },
    {
     "name": "stdout",
     "output_type": "stream",
     "text": [
      "loop\n"
     ]
    },
    {
     "name": "stderr",
     "output_type": "stream",
     "text": [
      "100%|███████████████████████████████████████████████████████████████████████████████████████████████████████████████████████████████████████████████████████████████████████| 384/384 [00:00<00:00, 2299.50it/s]\n"
     ]
    }
   ],
   "source": [
    "# Refactor the-stack-dedup-python-preprocessed-2021-sample384\n",
    "from utils.refactor import *\n",
    "from utils.preprocess import *\n",
    "from copy import copy\n",
    "import ast\n",
    "import time\n",
    "from tqdm import tqdm\n",
    "\n",
    "import json\n",
    "with open(f\"../data2/the-stack-dedup-python-preprocessed-2021-sample384.jsonl\", 'r') as f:\n",
    "    data = [json.loads(line) for line in f.readlines()]\n",
    "\n",
    "refectorers = { \n",
    "    # 'control-flow': GroupRefactor(IfBranchFliper(), While2For(), For2While()),\n",
    "    'if': GroupRefactor(IfBranchFliper()),\n",
    "    'loop': GroupRefactor(While2For(), For2While()),\n",
    "    # 'fn-args': GroupRefactor(FnVarargAppender(), FnKwargAppender()),\n",
    "    # 'fn-decorator': GroupRefactor(FnDecorator('@timeing', '@measure_memory_usage')),\n",
    "    # 'var-renamer': GroupRefactor(VarRenamer()),\n",
    " }\n",
    "for refector_name, refectorer in refectorers.items():\n",
    "    refectored_data = []\n",
    "    print(refector_name)\n",
    "    for d in tqdm(data):\n",
    "        dd = copy(d)\n",
    "        dd['original_content'] = dd['content']\n",
    "        root = ast.parse(dd['content'])\n",
    "        root, count = refectorer.refactor(root, rand=True, max_count=1)\n",
    "        dd['content'] = ast.unparse(root)\n",
    "        assert ast.parse(dd['content'])\n",
    "        dd['refactored'] = count > 0\n",
    "        refectored_data.append(dd)\n",
    "\n",
    "    with open(f'../data2/the-stack-dedup-python-preprocessed-2021-sample384-refactor-{refector_name}.jsonl', 'w') as f:\n",
    "        for d in refectored_data:\n",
    "            f.write(json.dumps(d))\n",
    "            f.write('\\n')\n"
   ]
  },
  {
   "cell_type": "code",
   "execution_count": 3,
   "metadata": {},
   "outputs": [],
   "source": [
    "import json\n",
    "\n",
    "with open('../data2/the-stack-dedup-python-preprocessed-2021-sample384-refactor-loop.jsonl') as f:\n",
    "    lines = f.readlines()\n",
    "    lines = map(lambda x: json.loads(x), lines)\n",
    "    lines = list(lines)"
   ]
  },
  {
   "cell_type": "code",
   "execution_count": 4,
   "metadata": {},
   "outputs": [
    {
     "data": {
      "text/plain": [
       "384"
      ]
     },
     "execution_count": 4,
     "metadata": {},
     "output_type": "execute_result"
    }
   ],
   "source": [
    "len(lines)"
   ]
  },
  {
   "cell_type": "code",
   "execution_count": 23,
   "metadata": {},
   "outputs": [
    {
     "name": "stdout",
     "output_type": "stream",
     "text": [
      "False\n",
      "def show_video():\n",
      "    mp4list = glob.glob('video/*.mp4')\n",
      "    if len(mp4list) > 0:\n",
      "        mp4 = mp4list[0]\n",
      "        video = io.open(mp4, 'r+b').read()\n",
      "        encoded = base64.b64encode(video)\n",
      "        ipythondisplay.display(HTML(data='<video alt=\"test\" autoplay\\n                 controls style=\"height: 400px;\">\\n                <source src=\"data:video/mp4;base64,{0}\" type=\"video/mp4\" />\\n             </video>'.format(encoded.decode('ascii'))))\n",
      "    else:\n",
      "        print('Could not find video')\n",
      "def show_video():\n",
      "    mp4list = glob.glob('video/*.mp4')\n",
      "    if len(mp4list) > 0:\n",
      "        mp4 = mp4list[0]\n",
      "        video = io.open(mp4, 'r+b').read()\n",
      "        ciphered = base64.b64encode(video)\n",
      "        ipythondisplay.display(HTML(data='<video alt=\"test\" autoplay\\n                 controls style=\"height: 400px;\">\\n                <source src=\"data:video/mp4;base64,{0}\" type=\"video/mp4\" />\\n             </video>'.format(ciphered.decode('ascii'))))\n",
      "    else:\n",
      "        print('Could not find video')\n"
     ]
    }
   ],
   "source": [
    "item = lines[107]\n",
    "print(item['content'] == item['original_content'])\n",
    "print(item['original_content'])\n",
    "print(item['content'])"
   ]
  },
  {
   "cell_type": "markdown",
   "metadata": {},
   "source": [
    "# Java "
   ]
  },
  {
   "cell_type": "code",
   "execution_count": 13,
   "metadata": {},
   "outputs": [],
   "source": [
    "# Refactor the-stack-dedup-java-2021-preprocessed-sample384\n",
    "from utils.preprocess import *\n",
    "from copy import copy\n",
    "import ast\n",
    "import time\n",
    "from tqdm import tqdm\n",
    "\n",
    "YEAR=2020\n",
    "\n",
    "import json\n",
    "with open(f\"../../challenge_data/the-stack-dedup-java-{YEAR}-preprocessed-sample384.jsonl\", 'r') as f:\n",
    "    data = [json.loads(line) for line in f.readlines()]\n"
   ]
  },
  {
   "cell_type": "code",
   "execution_count": 9,
   "metadata": {},
   "outputs": [
    {
     "data": {
      "text/plain": [
       "'public class TestElementIndex extends InternalSelenseTestBase {\\n  @Test\\n  public void testElementIndex() throws Exception {\\n    selenium.open(\"../tests/html/test_element_order.html\");\\n    assertEquals(selenium.getElementIndex(\"d2\"), \"1\");\\n    assertEquals(selenium.getElementIndex(\"d1.1.1\"), \"0\");\\n    verifyEquals(selenium.getElementIndex(\"d2\"), \"1\");\\n    verifyEquals(selenium.getElementIndex(\"d1.2\"), \"5\");\\n    assertNotEquals(\"2\", selenium.getElementIndex(\"d2\"));\\n    verifyNotEquals(\"2\", selenium.getElementIndex(\"d2\"));\\n  }\\n}'"
      ]
     },
     "execution_count": 9,
     "metadata": {},
     "output_type": "execute_result"
    }
   ],
   "source": [
    "data[51]['content']"
   ]
  },
  {
   "cell_type": "code",
   "execution_count": 14,
   "metadata": {},
   "outputs": [
    {
     "name": "stdout",
     "output_type": "stream",
     "text": [
      "LoopSubstitutor\n"
     ]
    },
    {
     "name": "stderr",
     "output_type": "stream",
     "text": [
      "100%|██████████| 384/384 [02:05<00:00,  3.05it/s]\n"
     ]
    },
    {
     "name": "stdout",
     "output_type": "stream",
     "text": [
      "IfBranchFlipper\n"
     ]
    },
    {
     "name": "stderr",
     "output_type": "stream",
     "text": [
      "100%|██████████| 384/384 [02:00<00:00,  3.18it/s]\n"
     ]
    },
    {
     "name": "stdout",
     "output_type": "stream",
     "text": [
      "VarRenamer\n"
     ]
    },
    {
     "name": "stderr",
     "output_type": "stream",
     "text": [
      "100%|██████████| 384/384 [13:23<00:00,  2.09s/it]\n"
     ]
    }
   ],
   "source": [
    "\n",
    "import subprocess \n",
    "import multiprocessing\n",
    "import json\n",
    "from tqdm import tqdm\n",
    "\n",
    "def do_refactor(refactor: str, max_count: int, code: str) -> tuple[str, int]:\n",
    "    result = subprocess.run(f'~/Softwares/openlogic-openjdk-21.0.4+7-linux-x64/bin/java -jar ../java_refactor/build/libs/java_refactor-1.0-SNAPSHOT-standalone.jar \"{refactor}:{max_count}\"', input=code, text=True, shell=True, stderr=subprocess.PIPE, stdout=subprocess.PIPE, env={'API_KEY': \"7RpMXozbsAI6Ktp8/UtJYQ==Nxy6js2jgudMz6hN\"})   \n",
    "    if result.returncode != 0:\n",
    "        print(result.stderr)\n",
    "        raise Exception('Refactor failed')\n",
    "    parsed_output = json.loads(result.stdout)\n",
    "    return parsed_output['mutatedCode'], parsed_output['mutatedCount']\n",
    "\n",
    "refectorers = [ \n",
    "    ('LoopSubstitutor', 1),\n",
    "    ('IfBranchFlipper', 1),\n",
    "    ('VarRenamer', 1),\n",
    "]\n",
    "for refector_name, max_count in refectorers:\n",
    "    refectored_data = []\n",
    "    print(refector_name)\n",
    "    def refactor(d):\n",
    "        dd = copy(d)\n",
    "        dd['original_content'] = dd['content']\n",
    "        try:\n",
    "            mutated_code, count = do_refactor(refector_name, max_count, dd['content'])\n",
    "            dd['content'] = mutated_code\n",
    "            dd['refactored'] = count > 0\n",
    "            return dd\n",
    "        except Exception as e:\n",
    "            print(d['content'])\n",
    "            print(e)\n",
    "            return dd\n",
    "    with multiprocessing.Pool(1) as pool:\n",
    "        if refector_name == 'VarRenamer':\n",
    "            for d in tqdm(data):\n",
    "                r = do_refactor(refector_name, max_count, d['content'])\n",
    "                dd = copy(d)\n",
    "                dd['original_content'] = dd['content']\n",
    "                dd['content'] = r[0]\n",
    "                dd['refactored'] = r[1] > 0\n",
    "                refectored_data.append(dd)\n",
    "        else:\n",
    "            for dd in pool.map(refactor, tqdm(data)):\n",
    "                refectored_data.append(dd)\n",
    "   \n",
    "\n",
    "    with open(f'../../challenge_data/the-stack-dedup-java-{YEAR}-preprocessed-sample384-refactor-{refector_name}.jsonl', 'w') as f:\n",
    "        for d in refectored_data:\n",
    "            f.write(json.dumps(d))\n",
    "            f.write('\\n')\n"
   ]
  },
  {
   "cell_type": "code",
   "execution_count": 40,
   "metadata": {},
   "outputs": [
    {
     "data": {
      "text/plain": [
       "{'hexsha': 'b08a80f53c729d0b170df6c3806811715adb16ff',\n",
       " 'ext': 'java',\n",
       " 'lang': 'Java',\n",
       " 'content': 'public class BitstreamReader extends AbstractReader implements Recyclable {\\n\\n    private static Logger log = Logger.getLogger(BitstreamReader.class);\\n\\n    /**\\n     * Messages to be sent when the user is not authorized to view\\n     * a particular bitstream. They will be redirected to the login\\n     * where this message will be displayed.\\n     */\\n    private static final String AUTH_REQUIRED_HEADER = \"xmlui.BitstreamReader.auth_header\";\\n\\n    private static final String AUTH_REQUIRED_MESSAGE = \"xmlui.BitstreamReader.auth_message\";\\n\\n    /**\\n     * How big a buffer should we use when reading from the bitstream before\\n     * writing to the HTTP response?\\n     */\\n    protected static final int BUFFER_SIZE = 8192;\\n\\n    /**\\n     * When should a bitstream expire in milliseconds. This should be set to\\n     * some low value just to prevent someone hiting DSpace repeatedy from\\n     * killing the server. Note: there are 1000 milliseconds in a second.\\n     *\\n     * Format: minutes * seconds * milliseconds\\n     *  60 * 60 * 1000 == 1 hour\\n     */\\n    protected static final int expires = 60 * 60 * 1000;\\n\\n    /**\\n     * The Cocoon response\\n     */\\n    protected Response response;\\n\\n    /**\\n     * The Cocoon request\\n     */\\n    protected Request request;\\n\\n    /**\\n     * The bitstream file\\n     */\\n    protected InputStream bitstreamInputStream;\\n\\n    /**\\n     * The bitstream\\'s reported size\\n     */\\n    protected long bitstreamSize;\\n\\n    /**\\n     * The bitstream\\'s mime-type\\n     */\\n    protected String bitstreamMimeType;\\n\\n    /**\\n     * The bitstream\\'s name\\n     */\\n    protected String bitstreamName;\\n\\n    /**\\n     * True if bitstream is readable by anonymous users\\n     */\\n    protected boolean isAnonymouslyReadable;\\n\\n    /**\\n     * The last modified date of the item containing the bitstream\\n     */\\n    private Date itemLastModified = null;\\n\\n    /**\\n     * True if user agent making this request was identified as spider.\\n     */\\n    private boolean isSpider = false;\\n\\n    /**\\n     * TEMP file for citation PDF. We will save here, so we can delete the temp file when done.\\n     */\\n    private File tempFile;\\n\\n    protected AuthorizeService authorizeService = AuthorizeServiceFactory.getInstance().getAuthorizeService();\\n\\n    protected BitstreamService bitstreamService = ContentServiceFactory.getInstance().getBitstreamService();\\n\\n    protected HandleService handleService = HandleServiceFactory.getInstance().getHandleService();\\n\\n    protected ItemService itemService = ContentServiceFactory.getInstance().getItemService();\\n\\n    protected CitationDocumentService citationDocumentService = DisseminateServiceFactory.getInstance().getCitationDocumentService();\\n\\n    /**\\n     * Set up the bitstream reader.\\n     *\\n     * See the class description for information on configuration options.\\n     * @param resolver source resolver.\\n     * @param objectModel Cocoon object model.\\n     * @param src source to read.\\n     * @param par Reader parameters.\\n     * @throws org.apache.cocoon.ProcessingException passed through.\\n     * @throws org.xml.sax.SAXException passed through.\\n     * @throws java.io.IOException passed through.\\n     */\\n    @Override\\n    public void setup(SourceResolver resolver, Map objectModel, String src, Parameters par) throws ProcessingException, SAXException, IOException {\\n        super.setup(resolver, objectModel, src, par);\\n        try {\\n            this.request = ObjectModelHelper.getRequest(objectModel);\\n            this.response = ObjectModelHelper.getResponse(objectModel);\\n            Item item = null;\\n            // Check to see if a context already exists or not. We may\\n            // have been aggregated into an http request by the XSL document\\n            // pulling in an XML-based bitstream. In this case the context has\\n            // already been created and we should leave it open because the\\n            // normal processes will close it.\\n            boolean BitstreamReaderOpenedContext = !ContextUtil.isContextAvailable(objectModel);\\n            Context environment = ContextUtil.obtainContext(objectModel);\\n            // Get our parameters that identify the bitstream\\n            String itemID = par.getParameter(\"itemID\", null);\\n            String bitstreamID = par.getParameter(\"bitstreamID\", null);\\n            String handle = par.getParameter(\"handle\", null);\\n            int sequence = par.getParameterAsInteger(\"sequence\", -1);\\n            String name = par.getParameter(\"name\", null);\\n            this.isSpider = par.getParameter(\"userAgent\", \"\").equals(\"spider\");\\n            // Resolve the bitstream\\n            Bitstream bitstream = null;\\n            DSpaceObject dso = null;\\n            if (bitstreamID != null) {\\n                // Direct reference to the individual bitstream ID.\\n                bitstream = bitstreamService.findByIdOrLegacyId(environment, bitstreamID);\\n            } else if (itemID != null) {\\n                // Referenced by internal itemID\\n                item = itemService.findByIdOrLegacyId(environment, itemID);\\n                if (sequence > -1) {\\n                    bitstream = findBitstreamBySequence(item, sequence);\\n                } else if (name != null) {\\n                    bitstream = findBitstreamByName(item, name);\\n                }\\n            } else if (handle != null) {\\n                // Reference by an item\\'s handle.\\n                dso = handleService.resolveToObject(environment, handle);\\n                if (dso instanceof Item) {\\n                    item = (Item) dso;\\n                    if (sequence > -1) {\\n                        bitstream = findBitstreamBySequence(item, sequence);\\n                    } else if (name != null) {\\n                        bitstream = findBitstreamByName(item, name);\\n                    }\\n                }\\n            }\\n            if (item != null) {\\n                itemLastModified = item.getLastModified();\\n            }\\n            // if initial search was by sequence number and found nothing,\\n            // then try to find bitstream by name (assuming we have a file name)\\n            if ((sequence > -1 && bitstream == null) && name != null) {\\n                bitstream = findBitstreamByName(item, name);\\n                // if we found bitstream by name, send a redirect to its new sequence number location\\n                if (bitstream != null) {\\n                    String redirectURL = \"\";\\n                    // build redirect URL based on whether item has a handle assigned yet\\n                    if (item.getHandle() != null && item.getHandle().length() > 0) {\\n                        redirectURL = request.getContextPath() + \"/bitstream/handle/\" + item.getHandle();\\n                    } else {\\n                        redirectURL = request.getContextPath() + \"/bitstream/item/\" + item.getID();\\n                    }\\n                    redirectURL += \"/\" + name + \"?sequence=\" + bitstream.getSequenceID();\\n                    HttpServletResponse httpResponse = (HttpServletResponse) objectModel.get(HttpEnvironment.HTTP_RESPONSE_OBJECT);\\n                    httpResponse.sendRedirect(redirectURL);\\n                    return;\\n                }\\n            }\\n            // Was a bitstream found?\\n            if (bitstream == null) {\\n                throw new ResourceNotFoundException(\"Unable to locate bitstream\");\\n            }\\n            // Is there a User logged in and does the user have access to read it?\\n            boolean isAuthorized = authorizeService.authorizeActionBoolean(environment, bitstream, Constants.READ);\\n            if (item != null && item.isWithdrawn() && !authorizeService.isAdmin(environment)) {\\n                isAuthorized = false;\\n                log.info(LogManager.getHeader(environment, \"view_bitstream\", \"handle=\" + item.getHandle() + \",withdrawn=true\"));\\n            }\\n            // It item-request is enabled to all request we redirect to restricted-resource immediately without login request\\n            String requestItemType = DSpaceServicesFactory.getInstance().getConfigurationService().getProperty(\"request.item.type\");\\n            if (!isAuthorized) {\\n                if (environment.getCurrentUser() != null || StringUtils.equalsIgnoreCase(\"all\", requestItemType)) {\\n                    // A user is logged in, but they are not authorized to read this bitstream,\\n                    // instead of asking them to login again we\\'ll point them to a friendly error\\n                    // message that tells them the bitstream is restricted.\\n                    String redictURL = request.getContextPath() + \"/handle/\";\\n                    if (item != null) {\\n                        redictURL += item.getHandle();\\n                    } else if (dso != null) {\\n                        redictURL += dso.getHandle();\\n                    }\\n                    redictURL += \"/restricted-resource?bitstreamId=\" + bitstream.getID();\\n                    HttpServletResponse httpResponse = (HttpServletResponse) objectModel.get(HttpEnvironment.HTTP_RESPONSE_OBJECT);\\n                    httpResponse.sendRedirect(redictURL);\\n                    return;\\n                } else {\\n                    if (StringUtils.isBlank(DSpaceServicesFactory.getInstance().getConfigurationService().getProperty(\"request.item.type\")) || DSpaceServicesFactory.getInstance().getConfigurationService().getProperty(\"request.item.type\").equalsIgnoreCase(\"logged\")) {\\n                        // The user does not have read access to this bitstream. Interrupt this current request\\n                        // and then forward them to the login page so that they can be authenticated. Once that is\\n                        // successful, their request will be resumed.\\n                        AuthenticationUtil.interruptRequest(objectModel, AUTH_REQUIRED_HEADER, AUTH_REQUIRED_MESSAGE, null);\\n                        // Redirect\\n                        String redictURL = request.getContextPath() + \"/login\";\\n                        HttpServletResponse httpResponse = (HttpServletResponse) objectModel.get(HttpEnvironment.HTTP_RESPONSE_OBJECT);\\n                        httpResponse.sendRedirect(redictURL);\\n                        return;\\n                    }\\n                }\\n            }\\n            // Success, bitstream found and the user has access to read it.\\n            // Store these for later retrieval:\\n            // Intercepting views to the original bitstream to instead show a citation altered version of the object\\n            // We need to check if this resource falls under the \"show watermarked alternative\" umbrella.\\n            // At which time we will not return the \"bitstream\", but will instead on-the-fly generate the citation rendition.\\n            // What will trigger a redirect/intercept?\\n            // 1) Intercepting Enabled\\n            // 2) This User is not an admin\\n            // 3) This object is citation-able\\n            if (citationDocumentService.isCitationEnabledForBitstream(bitstream, environment)) {\\n                // on-the-fly citation generator\\n                log.info(item.getHandle() + \" - \" + bitstream.getName() + \" is citable.\");\\n                FileInputStream fileInputStream = null;\\n                try {\\n                    //Create the cited document\\n                    tempFile = citationDocumentService.makeCitedDocument(environment, bitstream);\\n                    if (tempFile == null) {\\n                        log.error(\"CitedDocument was null\");\\n                    } else {\\n                        log.info(\"CitedDocument was ok,\" + tempFile.getAbsolutePath());\\n                    }\\n                    fileInputStream = new FileInputStream(tempFile);\\n                    if (fileInputStream == null) {\\n                        log.error(\"Error opening fileInputStream: \");\\n                    }\\n                    this.bitstreamInputStream = fileInputStream;\\n                    this.bitstreamSize = tempFile.length();\\n                } catch (Exception e) {\\n                    log.error(\"Caught an error with intercepting the citation document:\" + e.getMessage());\\n                }\\n                //End of CitationDocument\\n            } else {\\n                this.bitstreamInputStream = bitstreamService.retrieve(environment, bitstream);\\n                this.bitstreamSize = bitstream.getSize();\\n            }\\n            this.bitstreamMimeType = bitstream.getFormat(environment).getMIMEType();\\n            this.bitstreamName = bitstream.getName();\\n            if (environment.getCurrentUser() == null) {\\n                this.isAnonymouslyReadable = true;\\n            } else {\\n                this.isAnonymouslyReadable = false;\\n                for (ResourcePolicy rp : authorizeService.getPoliciesActionFilter(environment, bitstream, Constants.READ)) {\\n                    if (rp.getGroup() != null && rp.getGroup().getName().equals(Group.ANONYMOUS)) {\\n                        this.isAnonymouslyReadable = true;\\n                    }\\n                }\\n            }\\n            // Trim any path information from the bitstream\\n            if (bitstreamName != null && bitstreamName.length() > 0) {\\n                int finalSlashIndex = bitstreamName.lastIndexOf(\\'/\\');\\n                if (finalSlashIndex > 0) {\\n                    bitstreamName = bitstreamName.substring(finalSlashIndex + 1);\\n                }\\n            } else {\\n                // In-case there is no bitstream name...\\n                if (name != null && name.length() > 0) {\\n                    bitstreamName = name;\\n                    if (name.endsWith(\".jpg\")) {\\n                        bitstreamMimeType = \"image/jpeg\";\\n                    } else if (name.endsWith(\".png\")) {\\n                        bitstreamMimeType = \"image/png\";\\n                    }\\n                } else {\\n                    bitstreamName = \"bitstream\";\\n                }\\n            }\\n            // Log that the bitstream has been viewed, this is non-cached and the complexity\\n            // of adding it to the sitemap for every possible bitstream uri is not very tractable\\n            DSpaceServicesFactory.getInstance().getEventService().fireEvent(new UsageEvent(UsageEvent.Action.VIEW, ObjectModelHelper.getRequest(objectModel), ContextUtil.obtainContext(ObjectModelHelper.getRequest(objectModel)), bitstream));\\n            // If we created the database connection close it, otherwise leave it open.\\n            if (BitstreamReaderOpenedContext)\\n                environment.complete();\\n        } catch (SQLException sqle) {\\n            throw new ProcessingException(\"Unable to read bitstream.\", sqle);\\n        } catch (AuthorizeException ae) {\\n            throw new ProcessingException(\"Unable to read bitstream.\", ae);\\n        }\\n    }\\n\\n    /**\\n     * Find the bitstream identified by a sequence number on this item.\\n     *\\n     * @param item A DSpace item\\n     * @param sequence The sequence of the bitstream\\n     * @return The bitstream or null if none found.\\n     */\\n    private Bitstream findBitstreamBySequence(Item item, int sequence) throws SQLException {\\n        if (item == null) {\\n            return null;\\n        }\\n        List<Bundle> bundles = item.getBundles();\\n        for (Bundle bundle : bundles) {\\n            List<Bitstream> bitstreams = bundle.getBitstreams();\\n            for (Bitstream bitstream : bitstreams) {\\n                if (bitstream.getSequenceID() == sequence) {\\n                    return bitstream;\\n                }\\n            }\\n        }\\n        return null;\\n    }\\n\\n    /**\\n     * Return the bitstream from the given item that is identified by the\\n     * given name. If the name has prepended directories they will be removed\\n     * one at a time until a bitstream is found. Note that if two bitstreams\\n     * have the same name then the first bitstream will be returned.\\n     *\\n     * @param item A DSpace item\\n     * @param name The name of the bitstream\\n     * @return The bitstream or null if none found.\\n     */\\n    private Bitstream findBitstreamByName(Item item, String name) throws SQLException {\\n        if (name == null || item == null) {\\n            return null;\\n        }\\n        // Determine our the maximum number of directories that will be removed for a path.\\n        int maxDepthPathSearch = 3;\\n        if (DSpaceServicesFactory.getInstance().getConfigurationService().getProperty(\"xmlui.html.max-depth-guess\") != null) {\\n            maxDepthPathSearch = DSpaceServicesFactory.getInstance().getConfigurationService().getIntProperty(\"xmlui.html.max-depth-guess\");\\n        }\\n        // Search for the named bitstream on this item. Each time through the loop\\n        // a directory is removed from the name until either our maximum depth is\\n        // reached or the bitstream is found. Note: an extra pass is added on to the\\n        // loop for a last ditch effort where all directory paths will be removed.\\n        for (int i = 0; i < maxDepthPathSearch + 1; i++) {\\n            // Search through all the bitstreams and see\\n            // if the name can be found\\n            List<Bundle> bundles = item.getBundles();\\n            for (Bundle bundle : bundles) {\\n                List<Bitstream> bitstreams = bundle.getBitstreams();\\n                for (Bitstream bitstream : bitstreams) {\\n                    if (name.equals(bitstream.getName())) {\\n                        return bitstream;\\n                    }\\n                }\\n            }\\n            // The bitstream was not found, so try removing a directory\\n            // off of the name and see if we lost some path information.\\n            int indexOfSlash = name.indexOf(\\'/\\');\\n            if (indexOfSlash < 0) {\\n                // No more directories to remove from the path, so return null for no\\n                // bitstream found.\\n                return null;\\n            }\\n            name = name.substring(indexOfSlash + 1);\\n            // If this is our next to last time through the loop then\\n            // trim everything and only use the trailing filename.\\n            if (i == maxDepthPathSearch - 1) {\\n                int indexOfLastSlash = name.lastIndexOf(\\'/\\');\\n                if (indexOfLastSlash > -1) {\\n                    name = name.substring(indexOfLastSlash + 1);\\n                }\\n            }\\n        }\\n        // The named bitstream was not found and we exhausted the maximum path depth that\\n        // we search.\\n        return null;\\n    }\\n\\n    /**\\n     * Write the actual data out to the response.\\n     *\\n     * Some implementation notes:\\n     *\\n     * 1) We set a short expiration time just in the hopes of preventing someone\\n     * from overloading the server by clicking reload a bunch of times. I\\n     * Realize that this is nowhere near 100% effective but it may help in some\\n     * cases and shouldn\\'t hurt anything.\\n     *\\n     * 2) We accept partial downloads, thus if you lose a connection halfway\\n     * through most web browser will enable you to resume downloading the\\n     * bitstream.\\n     * @throws java.io.IOException passed through.\\n     * @throws org.xml.sax.SAXException passed through.\\n     * @throws org.apache.cocoon.ProcessingException passed through.\\n     */\\n    @Override\\n    public void generate() throws IOException, SAXException, ProcessingException {\\n        if (this.bitstreamInputStream == null) {\\n            return;\\n        }\\n        // Only allow If-Modified-Since protocol if request is from a spider\\n        // since response headers would encourage a browser to cache results\\n        // that might change with different authentication.\\n        if (isSpider) {\\n            // Check for if-modified-since header -- ONLY if not authenticated\\n            long modSince = request.getDateHeader(\"If-Modified-Since\");\\n            if (modSince != -1 && itemLastModified != null && itemLastModified.getTime() < modSince) {\\n                // Item has not been modified since requested date,\\n                // hence bitstream has not been, either; return 304\\n                response.setStatus(HttpServletResponse.SC_NOT_MODIFIED);\\n                return;\\n            }\\n        }\\n        // Only set Last-Modified: header for spiders or anonymous\\n        // access, since it might encourage browse to cache the result\\n        // which might leave a result only available to authenticated\\n        // users in the cache for a response later to anonymous user.\\n        try {\\n            if (itemLastModified != null && (isSpider || ContextUtil.obtainContext(request).getCurrentUser() == null)) {\\n                // TODO:  Currently just borrow the date of the item, since\\n                // we don\\'t have last-mod dates for Bitstreams\\n                response.setDateHeader(\"Last-Modified\", itemLastModified.getTime());\\n            }\\n        } catch (SQLException e) {\\n            throw new ProcessingException(e);\\n        }\\n        byte[] buffer = new byte[BUFFER_SIZE];\\n        int length = -1;\\n        // Only encourage caching if this is not a restricted resource, i.e.\\n        // if it is accessed anonymously or is readable by Anonymous:\\n        if (isAnonymouslyReadable) {\\n            response.setDateHeader(\"Expires\", System.currentTimeMillis() + expires);\\n        }\\n        // If this is a large bitstream then tell the browser it should treat it as a download.\\n        int threshold = DSpaceServicesFactory.getInstance().getConfigurationService().getIntProperty(\"xmlui.content_disposition_threshold\");\\n        if (bitstreamSize > threshold && threshold != 0) {\\n            String name = bitstreamName;\\n            // Try and make the download file name formatted for each browser.\\n            try {\\n                String agent = request.getHeader(\"USER-AGENT\");\\n                if (agent != null && agent.contains(\"MSIE\")) {\\n                    name = URLEncoder.encode(name, \"UTF8\");\\n                } else if (agent != null && agent.contains(\"Mozilla\")) {\\n                    name = MimeUtility.encodeText(name, \"UTF8\", \"B\");\\n                }\\n            } catch (UnsupportedEncodingException see) {\\n                // do nothing\\n            }\\n            response.setHeader(\"Content-Disposition\", \"attachment;filename=\" + \\'\"\\' + name + \\'\"\\');\\n        }\\n        ByteRange byteRange = null;\\n        // Turn off partial downloads, they cause problems\\n        // and are only rarely used. Specifically some windows pdf\\n        // viewers are incapable of handling this request. You can\\n        // uncomment the following lines to turn this feature back on.\\n        /*\\n    response.setHeader(\"Accept-Ranges\", \"bytes\");\\n        String ranges = request.getHeader(\"Range\");\\n        if (ranges != null)\\n        {\\n            try\\n            {\\n                ranges = ranges.substring(ranges.indexOf(\\'=\\') + 1);\\n                byteRange = new ByteRange(ranges);\\n            }\\n            catch (NumberFormatException e)\\n            {\\n                byteRange = null;\\n                if (response instanceof HttpResponse)\\n                {\\n                    // Respond with status 416 (Request range not\\n                    // satisfiable)\\n                    response.setStatus(416);\\n                }\\n            }\\n        }*/\\n        try {\\n            if (byteRange != null) {\\n                String entityLength;\\n                String entityRange;\\n                //VT\\n                ByteRange requestedRange = null;\\n                if (this.bitstreamSize != -1) {\\n                    entityLength = \"\" + this.bitstreamSize;\\n                    //VT entityRange = byteRange.intersection(\\n                    //VT        new ByteRange(0, this.bitstreamSize)).toString();\\n                    requestedRange = byteRange.intersection(new ByteRange(0, this.bitstreamSize - 1));\\n                    entityRange = requestedRange.toString();\\n                } else {\\n                    entityLength = \"*\";\\n                    entityRange = byteRange.toString();\\n                }\\n                response.setHeader(\"Content-Range\", entityRange + \"/\" + entityLength);\\n                if (response instanceof HttpResponse) {\\n                    // Response with status 206 (Partial content)\\n                    response.setStatus(206);\\n                }\\n                int pos = 0;\\n                int posEnd;\\n                while ((length = this.bitstreamInputStream.read(buffer)) > -1) {\\n                    posEnd = pos + length - 1;\\n                    ByteRange intersection = byteRange.intersection(new ByteRange(pos, posEnd));\\n                    if (intersection != null) {\\n                        out.write(buffer, (int) intersection.getStart() - pos, (int) intersection.length());\\n                    }\\n                    pos += length;\\n                }\\n            } else {\\n                response.setHeader(\"Content-Length\", String.valueOf(this.bitstreamSize));\\n                while ((length = this.bitstreamInputStream.read(buffer)) > -1) {\\n                    out.write(buffer, 0, length);\\n                }\\n                out.flush();\\n            }\\n        } finally {\\n            try {\\n                // Close the bitstream input stream so that we don\\'t leak a file descriptor\\n                this.bitstreamInputStream.close();\\n                // Close the output stream as per Cocoon docs: http://cocoon.apache.org/2.2/core-modules/core/2.2/681_1_1.html\\n                out.close();\\n            } catch (IOException ioe) {\\n                // Closing the stream threw an IOException but do we want this to propagate up to Cocoon?\\n                // No point since the user has already got the bitstream contents.\\n                log.warn(\"Caught IO exception when closing a stream: \" + ioe.getMessage());\\n            }\\n        }\\n    }\\n\\n    /**\\n     * Returns the mime-type of the bitstream.\\n     * @return the type.\\n     */\\n    @Override\\n    public String getMimeType() {\\n        return this.bitstreamMimeType;\\n    }\\n\\n    /**\\n     * Recycle\\n     */\\n    @Override\\n    public void recycle() {\\n        this.response = null;\\n        this.request = null;\\n        this.bitstreamInputStream = null;\\n        this.bitstreamSize = 0;\\n        this.bitstreamMimeType = null;\\n        this.bitstreamName = null;\\n        this.itemLastModified = null;\\n        this.tempFile = null;\\n        super.recycle();\\n    }\\n}\\n',\n",
       " 'class_id': 0,\n",
       " 'repo': 'sunakshitejwani/testOER',\n",
       " 'file': 'dspace/modules/xmlui/src/main/java/org/dspace/app/xmlui/cocoon/BitstreamReader.java',\n",
       " 'last_update_at': '2021-02-13T18:35:31+00:00',\n",
       " 'original_content': 'public class BitstreamReader extends AbstractReader implements Recyclable\\n{\\n    private static Logger log = Logger.getLogger(BitstreamReader.class);\\n        \\n    /**\\n     * Messages to be sent when the user is not authorized to view\\n     * a particular bitstream. They will be redirected to the login\\n     * where this message will be displayed.\\n     */\\n    private static final String AUTH_REQUIRED_HEADER = \"xmlui.BitstreamReader.auth_header\";\\n    private static final String AUTH_REQUIRED_MESSAGE = \"xmlui.BitstreamReader.auth_message\";\\n        \\n    /**\\n     * How big a buffer should we use when reading from the bitstream before\\n     * writing to the HTTP response?\\n     */\\n    protected static final int BUFFER_SIZE = 8192;\\n\\n    /**\\n     * When should a bitstream expire in milliseconds. This should be set to\\n     * some low value just to prevent someone hiting DSpace repeatedy from\\n     * killing the server. Note: there are 1000 milliseconds in a second.\\n     *\\n     * Format: minutes * seconds * milliseconds\\n     *  60 * 60 * 1000 == 1 hour\\n     */\\n    protected static final int expires = 60 * 60 * 1000;\\n\\n    /** The Cocoon response */\\n    protected Response response;\\n\\n    /** The Cocoon request */\\n    protected Request request;\\n\\n    /** The bitstream file */\\n    protected InputStream bitstreamInputStream;\\n    \\n    /** The bitstream\\'s reported size */\\n    protected long bitstreamSize;\\n    \\n    /** The bitstream\\'s mime-type */\\n    protected String bitstreamMimeType;\\n    \\n    /** The bitstream\\'s name */\\n    protected String bitstreamName;\\n    \\n    /** True if bitstream is readable by anonymous users */\\n    protected boolean isAnonymouslyReadable;\\n\\n    /** The last modified date of the item containing the bitstream */\\n    private Date itemLastModified = null;\\n\\n    /** True if user agent making this request was identified as spider. */\\n    private boolean isSpider = false;\\n\\n    /** TEMP file for citation PDF. We will save here, so we can delete the temp file when done.  */\\n    private File tempFile;\\n\\n    protected AuthorizeService authorizeService = AuthorizeServiceFactory.getInstance().getAuthorizeService();\\n    protected BitstreamService bitstreamService = ContentServiceFactory.getInstance().getBitstreamService();\\n    protected HandleService handleService = HandleServiceFactory.getInstance().getHandleService();\\n    protected ItemService itemService = ContentServiceFactory.getInstance().getItemService();\\n    protected CitationDocumentService citationDocumentService = DisseminateServiceFactory.getInstance().getCitationDocumentService();\\n\\n\\n    /**\\n     * Set up the bitstream reader.\\n     *\\n     * See the class description for information on configuration options.\\n     * @param resolver source resolver.\\n     * @param objectModel Cocoon object model.\\n     * @param src source to read.\\n     * @param par Reader parameters.\\n     * @throws org.apache.cocoon.ProcessingException passed through.\\n     * @throws org.xml.sax.SAXException passed through.\\n     * @throws java.io.IOException passed through.\\n     */\\n    @Override\\n    public void setup(SourceResolver resolver, Map objectModel, String src,\\n            Parameters par)\\n            throws ProcessingException, SAXException, IOException\\n    {\\n        super.setup(resolver, objectModel, src, par);\\n\\n        try\\n        {\\n            this.request = ObjectModelHelper.getRequest(objectModel);\\n            this.response = ObjectModelHelper.getResponse(objectModel);\\n\\n            Item item = null;\\n\\n            // Check to see if a context already exists or not. We may\\n            // have been aggregated into an http request by the XSL document\\n            // pulling in an XML-based bitstream. In this case the context has\\n            // already been created and we should leave it open because the\\n            // normal processes will close it.\\n            boolean BitstreamReaderOpenedContext = !ContextUtil.isContextAvailable(objectModel);\\n            Context context = ContextUtil.obtainContext(objectModel);\\n            \\n            // Get our parameters that identify the bitstream\\n            String itemID = par.getParameter(\"itemID\", null);\\n            String bitstreamID = par.getParameter(\"bitstreamID\", null);\\n            String handle = par.getParameter(\"handle\", null);\\n            \\n            int sequence = par.getParameterAsInteger(\"sequence\", -1);\\n            String name = par.getParameter(\"name\", null);\\n        \\n            this.isSpider = par.getParameter(\"userAgent\", \"\").equals(\"spider\");\\n\\n            // Resolve the bitstream\\n            Bitstream bitstream = null;\\n            DSpaceObject dso = null;\\n            \\n            if (bitstreamID != null)\\n            {\\n                // Direct reference to the individual bitstream ID.\\n                bitstream = bitstreamService.findByIdOrLegacyId(context, bitstreamID);\\n            }\\n            else if (itemID != null)\\n            {\\n                // Referenced by internal itemID\\n                item = itemService.findByIdOrLegacyId(context, itemID);\\n                \\n                if (sequence > -1)\\n                {\\n                        bitstream = findBitstreamBySequence(item, sequence);\\n                }\\n                else if (name != null)\\n                {\\n                        bitstream = findBitstreamByName(item, name);\\n                }\\n            }\\n            else if (handle != null)\\n            {\\n                // Reference by an item\\'s handle.\\n                dso = handleService.resolveToObject(context, handle);\\n\\n                if (dso instanceof Item)\\n                {\\n                    item = (Item)dso;\\n\\n                    if (sequence > -1)\\n                    {\\n                        bitstream = findBitstreamBySequence(item,sequence);\\n                    }\\n                    else if (name != null)\\n                    {\\n                        bitstream = findBitstreamByName(item,name);\\n                    }\\n                }\\n            }\\n\\n            if (item != null) {\\n                itemLastModified = item.getLastModified();\\n            }\\n\\n            // if initial search was by sequence number and found nothing,\\n            // then try to find bitstream by name (assuming we have a file name)\\n            if((sequence > -1 && bitstream==null) && name!=null)\\n            {\\n                bitstream = findBitstreamByName(item,name);\\n\\n                // if we found bitstream by name, send a redirect to its new sequence number location\\n                if(bitstream!=null)\\n                {\\n                    String redirectURL = \"\";\\n\\n                    // build redirect URL based on whether item has a handle assigned yet\\n                    if(item.getHandle()!=null && item.getHandle().length()>0)\\n                    {\\n                        redirectURL = request.getContextPath() + \"/bitstream/handle/\" + item.getHandle();\\n                    }\\n                    else\\n                    {\\n                        redirectURL = request.getContextPath() + \"/bitstream/item/\" + item.getID();\\n                    }\\n\\n                        redirectURL += \"/\" + name + \"?sequence=\" + bitstream.getSequenceID();\\n\\n                        HttpServletResponse httpResponse = (HttpServletResponse)\\n                        objectModel.get(HttpEnvironment.HTTP_RESPONSE_OBJECT);\\n                        httpResponse.sendRedirect(redirectURL);\\n                        return;\\n                }\\n            }\\n\\n            // Was a bitstream found?\\n            if (bitstream == null)\\n            {\\n                throw new ResourceNotFoundException(\"Unable to locate bitstream\");\\n            }\\n\\n            // Is there a User logged in and does the user have access to read it?\\n            boolean isAuthorized = authorizeService.authorizeActionBoolean(context, bitstream, Constants.READ);\\n            if (item != null && item.isWithdrawn() && !authorizeService.isAdmin(context))\\n            {\\n                isAuthorized = false;\\n                log.info(LogManager.getHeader(context, \"view_bitstream\", \"handle=\" + item.getHandle() + \",withdrawn=true\"));\\n            }\\n            // It item-request is enabled to all request we redirect to restricted-resource immediately without login request  \\n            String requestItemType = DSpaceServicesFactory.getInstance().getConfigurationService().getProperty(\"request.item.type\");\\n            if (!isAuthorized)\\n            {\\n                if(context.getCurrentUser() != null || StringUtils.equalsIgnoreCase(\"all\", requestItemType)){\\n                        // A user is logged in, but they are not authorized to read this bitstream,\\n                        // instead of asking them to login again we\\'ll point them to a friendly error\\n                        // message that tells them the bitstream is restricted.\\n                        String redictURL = request.getContextPath() + \"/handle/\";\\n                        if (item!=null){\\n                                redictURL += item.getHandle();\\n                        }\\n                        else if(dso!=null){\\n                                redictURL += dso.getHandle();\\n                        }\\n                        redictURL += \"/restricted-resource?bitstreamId=\" + bitstream.getID();\\n\\n                        HttpServletResponse httpResponse = (HttpServletResponse)\\n                        objectModel.get(HttpEnvironment.HTTP_RESPONSE_OBJECT);\\n                        httpResponse.sendRedirect(redictURL);\\n                        return;\\n                }\\n                else{\\n                \\tif(StringUtils.isBlank(DSpaceServicesFactory.getInstance().getConfigurationService().getProperty(\"request.item.type\")) ||\\n                \\t\\t\\t                \\t\\t\\tDSpaceServicesFactory.getInstance().getConfigurationService().getProperty(\"request.item.type\").equalsIgnoreCase(\"logged\")){\\n                        // The user does not have read access to this bitstream. Interrupt this current request\\n                        // and then forward them to the login page so that they can be authenticated. Once that is\\n                        // successful, their request will be resumed.\\n                        AuthenticationUtil.interruptRequest(objectModel, AUTH_REQUIRED_HEADER, AUTH_REQUIRED_MESSAGE, null);\\n\\n                        // Redirect\\n                        String redictURL = request.getContextPath() + \"/login\";\\n\\n                        HttpServletResponse httpResponse = (HttpServletResponse)\\n                        objectModel.get(HttpEnvironment.HTTP_RESPONSE_OBJECT);\\n                        httpResponse.sendRedirect(redictURL);\\n                        return;\\n                \\t}\\n                }\\n            }\\n\\n            // Success, bitstream found and the user has access to read it.\\n            // Store these for later retrieval:\\n\\n            // Intercepting views to the original bitstream to instead show a citation altered version of the object\\n            // We need to check if this resource falls under the \"show watermarked alternative\" umbrella.\\n            // At which time we will not return the \"bitstream\", but will instead on-the-fly generate the citation rendition.\\n\\n            // What will trigger a redirect/intercept?\\n            // 1) Intercepting Enabled\\n            // 2) This User is not an admin\\n            // 3) This object is citation-able\\n            if (citationDocumentService.isCitationEnabledForBitstream(bitstream, context)) {\\n                // on-the-fly citation generator\\n                log.info(item.getHandle() + \" - \" + bitstream.getName() + \" is citable.\");\\n\\n                FileInputStream fileInputStream = null;\\n\\n                try {\\n                    //Create the cited document\\n                    tempFile = citationDocumentService.makeCitedDocument(context, bitstream);\\n                    if(tempFile == null) {\\n                        log.error(\"CitedDocument was null\");\\n                    } else {\\n                        log.info(\"CitedDocument was ok,\" + tempFile.getAbsolutePath());\\n                    }\\n\\n\\n                    fileInputStream = new FileInputStream(tempFile);\\n                    if(fileInputStream == null) {\\n                        log.error(\"Error opening fileInputStream: \");\\n                    }\\n\\n                    this.bitstreamInputStream = fileInputStream;\\n                    this.bitstreamSize = tempFile.length();\\n\\n                } catch (Exception e) {\\n                    log.error(\"Caught an error with intercepting the citation document:\" + e.getMessage());\\n                }\\n\\n                //End of CitationDocument\\n            } else {\\n                this.bitstreamInputStream = bitstreamService.retrieve(context, bitstream);\\n                this.bitstreamSize = bitstream.getSize();\\n            }\\n\\n            this.bitstreamMimeType = bitstream.getFormat(context).getMIMEType();\\n            this.bitstreamName = bitstream.getName();\\n            if (context.getCurrentUser() == null)\\n            {\\n                this.isAnonymouslyReadable = true;\\n            }\\n            else\\n            {\\n                this.isAnonymouslyReadable = false;\\n                for (ResourcePolicy rp : authorizeService.getPoliciesActionFilter(context, bitstream, Constants.READ))\\n                {\\n                    if (rp.getGroup() != null && rp.getGroup().getName().equals(Group.ANONYMOUS))\\n                    {\\n                        this.isAnonymouslyReadable = true;\\n                    }\\n                }\\n            }\\n\\n            // Trim any path information from the bitstream\\n            if (bitstreamName != null && bitstreamName.length() >0 )\\n            {\\n                        int finalSlashIndex = bitstreamName.lastIndexOf(\\'/\\');\\n                        if (finalSlashIndex > 0)\\n                        {\\n                                bitstreamName = bitstreamName.substring(finalSlashIndex+1);\\n                        }\\n            }\\n            else\\n            {\\n                // In-case there is no bitstream name...\\n                if(name != null && name.length() > 0) {\\n                    bitstreamName = name;\\n                    if(name.endsWith(\".jpg\")) {\\n                        bitstreamMimeType = \"image/jpeg\";\\n                    } else if(name.endsWith(\".png\")) {\\n                        bitstreamMimeType = \"image/png\";\\n                    }\\n                } else {\\n                    bitstreamName = \"bitstream\";\\n                }\\n            }\\n            \\n            // Log that the bitstream has been viewed, this is non-cached and the complexity\\n            // of adding it to the sitemap for every possible bitstream uri is not very tractable\\n            DSpaceServicesFactory.getInstance().getEventService().fireEvent(\\n                                new UsageEvent(\\n                                                UsageEvent.Action.VIEW,\\n                                                ObjectModelHelper.getRequest(objectModel),\\n                                                ContextUtil.obtainContext(ObjectModelHelper.getRequest(objectModel)),\\n                                                bitstream));\\n            \\n            // If we created the database connection close it, otherwise leave it open.\\n            if (BitstreamReaderOpenedContext)\\n            \\tcontext.complete();\\n        }\\n        catch (SQLException sqle)\\n        {\\n            throw new ProcessingException(\"Unable to read bitstream.\",sqle);\\n        }\\n        catch (AuthorizeException ae)\\n        {\\n            throw new ProcessingException(\"Unable to read bitstream.\",ae);\\n        }\\n    }\\n\\n    \\n    \\n    \\n    \\n    /**\\n     * Find the bitstream identified by a sequence number on this item.\\n     *\\n     * @param item A DSpace item\\n     * @param sequence The sequence of the bitstream\\n     * @return The bitstream or null if none found.\\n     */\\n    private Bitstream findBitstreamBySequence(Item item, int sequence) throws SQLException\\n    {\\n        if (item == null)\\n        {\\n            return null;\\n        }\\n        \\n        List<Bundle> bundles = item.getBundles();\\n        for (Bundle bundle : bundles)\\n        {\\n            List<Bitstream> bitstreams = bundle.getBitstreams();\\n\\n            for (Bitstream bitstream : bitstreams)\\n            {\\n                if (bitstream.getSequenceID() == sequence)\\n                {\\n                    return bitstream;\\n                }\\n            }\\n        }\\n        return null;\\n    }\\n    \\n    /**\\n     * Return the bitstream from the given item that is identified by the\\n     * given name. If the name has prepended directories they will be removed\\n     * one at a time until a bitstream is found. Note that if two bitstreams\\n     * have the same name then the first bitstream will be returned.\\n     *\\n     * @param item A DSpace item\\n     * @param name The name of the bitstream\\n     * @return The bitstream or null if none found.\\n     */\\n    private Bitstream findBitstreamByName(Item item, String name) throws SQLException\\n    {\\n        if (name == null || item == null)\\n        {\\n            return null;\\n        }\\n    \\n        // Determine our the maximum number of directories that will be removed for a path.\\n        int maxDepthPathSearch = 3;\\n        if (DSpaceServicesFactory.getInstance().getConfigurationService().getProperty(\"xmlui.html.max-depth-guess\") != null)\\n        {\\n            maxDepthPathSearch = DSpaceServicesFactory.getInstance().getConfigurationService().getIntProperty(\"xmlui.html.max-depth-guess\");\\n        }\\n        \\n        // Search for the named bitstream on this item. Each time through the loop\\n        // a directory is removed from the name until either our maximum depth is\\n        // reached or the bitstream is found. Note: an extra pass is added on to the\\n        // loop for a last ditch effort where all directory paths will be removed.\\n        for (int i = 0; i < maxDepthPathSearch+1; i++)\\n        {\\n                // Search through all the bitstreams and see\\n                // if the name can be found\\n                List<Bundle> bundles = item.getBundles();\\n                for (Bundle bundle : bundles)\\n                {\\n                    List<Bitstream> bitstreams = bundle.getBitstreams();\\n        \\n                    for (Bitstream bitstream : bitstreams)\\n                    {\\n                        if (name.equals(bitstream.getName()))\\n                        {\\n                            return bitstream;\\n                        }\\n                    }\\n                }\\n                \\n                // The bitstream was not found, so try removing a directory\\n                // off of the name and see if we lost some path information.\\n                int indexOfSlash = name.indexOf(\\'/\\');\\n                \\n                if (indexOfSlash < 0)\\n                {\\n                    // No more directories to remove from the path, so return null for no\\n                    // bitstream found.\\n                    return null;\\n                }\\n               \\n                name = name.substring(indexOfSlash+1);\\n                \\n                // If this is our next to last time through the loop then\\n                // trim everything and only use the trailing filename.\\n                if (i == maxDepthPathSearch-1)\\n                {\\n                        int indexOfLastSlash = name.lastIndexOf(\\'/\\');\\n                        if (indexOfLastSlash > -1)\\n                        {\\n                            name = name.substring(indexOfLastSlash + 1);\\n                        }\\n                }\\n                \\n        }\\n        \\n        // The named bitstream was not found and we exhausted the maximum path depth that\\n        // we search.\\n        return null;\\n    }\\n    \\n    \\n    /**\\n         * Write the actual data out to the response.\\n         *\\n         * Some implementation notes:\\n         *\\n         * 1) We set a short expiration time just in the hopes of preventing someone\\n         * from overloading the server by clicking reload a bunch of times. I\\n         * Realize that this is nowhere near 100% effective but it may help in some\\n         * cases and shouldn\\'t hurt anything.\\n         *\\n         * 2) We accept partial downloads, thus if you lose a connection halfway\\n         * through most web browser will enable you to resume downloading the\\n         * bitstream.\\n     * @throws java.io.IOException passed through.\\n     * @throws org.xml.sax.SAXException passed through.\\n     * @throws org.apache.cocoon.ProcessingException passed through.\\n         */\\n    @Override\\n    public void generate() throws IOException, SAXException,\\n            ProcessingException\\n    {\\n        if (this.bitstreamInputStream == null)\\n        {\\n            return;\\n        }\\n        \\n        // Only allow If-Modified-Since protocol if request is from a spider\\n        // since response headers would encourage a browser to cache results\\n        // that might change with different authentication.\\n        if (isSpider)\\n        {\\n            // Check for if-modified-since header -- ONLY if not authenticated\\n            long modSince = request.getDateHeader(\"If-Modified-Since\");\\n            if (modSince != -1 && itemLastModified != null && itemLastModified.getTime() < modSince)\\n            {\\n                // Item has not been modified since requested date,\\n                // hence bitstream has not been, either; return 304\\n                response.setStatus(HttpServletResponse.SC_NOT_MODIFIED);\\n                return;\\n            }\\n        }\\n\\n        // Only set Last-Modified: header for spiders or anonymous\\n        // access, since it might encourage browse to cache the result\\n        // which might leave a result only available to authenticated\\n        // users in the cache for a response later to anonymous user.\\n        try\\n        {\\n            if (itemLastModified != null && (isSpider || ContextUtil.obtainContext(request).getCurrentUser() == null))\\n            {\\n                // TODO:  Currently just borrow the date of the item, since\\n                // we don\\'t have last-mod dates for Bitstreams\\n                response.setDateHeader(\"Last-Modified\", itemLastModified.getTime());\\n            }\\n        }\\n        catch (SQLException e)\\n        {\\n            throw new ProcessingException(e);\\n        }\\n\\n        byte[] buffer = new byte[BUFFER_SIZE];\\n        int length = -1;\\n\\n        // Only encourage caching if this is not a restricted resource, i.e.\\n        // if it is accessed anonymously or is readable by Anonymous:\\n        if (isAnonymouslyReadable)\\n        {\\n            response.setDateHeader(\"Expires\", System.currentTimeMillis() + expires);\\n        }\\n        \\n        // If this is a large bitstream then tell the browser it should treat it as a download.\\n        int threshold = DSpaceServicesFactory.getInstance().getConfigurationService().getIntProperty(\"xmlui.content_disposition_threshold\");\\n        if (bitstreamSize > threshold && threshold != 0)\\n        {\\n                String name  = bitstreamName;\\n                \\n                // Try and make the download file name formatted for each browser.\\n                try {\\n                        String agent = request.getHeader(\"USER-AGENT\");\\n                        if (agent != null && agent.contains(\"MSIE\"))\\n                        {\\n                            name = URLEncoder.encode(name, \"UTF8\");\\n                        }\\n                        else if (agent != null && agent.contains(\"Mozilla\"))\\n                        {\\n                            name = MimeUtility.encodeText(name, \"UTF8\", \"B\");\\n                        }\\n                }\\n                catch (UnsupportedEncodingException see)\\n                {\\n                        // do nothing\\n                }\\n                response.setHeader(\"Content-Disposition\", \"attachment;filename=\" + \\'\"\\' + name + \\'\"\\');\\n        }\\n\\n        ByteRange byteRange = null;\\n\\n        // Turn off partial downloads, they cause problems\\n        // and are only rarely used. Specifically some windows pdf\\n        // viewers are incapable of handling this request. You can\\n        // uncomment the following lines to turn this feature back on.\\n/*\\n    response.setHeader(\"Accept-Ranges\", \"bytes\");\\n        String ranges = request.getHeader(\"Range\");\\n        if (ranges != null)\\n        {\\n            try\\n            {\\n                ranges = ranges.substring(ranges.indexOf(\\'=\\') + 1);\\n                byteRange = new ByteRange(ranges);\\n            }\\n            catch (NumberFormatException e)\\n            {\\n                byteRange = null;\\n                if (response instanceof HttpResponse)\\n                {\\n                    // Respond with status 416 (Request range not\\n                    // satisfiable)\\n                    response.setStatus(416);\\n                }\\n            }\\n        }*/\\n\\n        try\\n        {\\n            if (byteRange != null)\\n            {\\n                String entityLength;\\n                String entityRange;\\n\\t\\tByteRange requestedRange=null; //VT\\n                if (this.bitstreamSize != -1)\\n                {\\n                    entityLength = \"\" + this.bitstreamSize;\\n                   //VT entityRange = byteRange.intersection(\\n                   //VT        new ByteRange(0, this.bitstreamSize)).toString();\\n\\t\\t\\trequestedRange = byteRange.intersection(\\n                        new ByteRange(0, this.bitstreamSize - 1));\\n                    \\tentityRange = requestedRange.toString();\\n                }\\n                else\\n                {\\n                    entityLength = \"*\";\\n                    entityRange = byteRange.toString();\\n                }\\n\\n                response.setHeader(\"Content-Range\", entityRange + \"/\" + entityLength);\\n                if (response instanceof HttpResponse)\\n                {\\n                    // Response with status 206 (Partial content)\\n                    response.setStatus(206);\\n                }\\n\\n                int pos = 0;\\n                int posEnd;\\n                while ((length = this.bitstreamInputStream.read(buffer)) > -1)\\n                {\\n                    posEnd = pos + length - 1;\\n                    ByteRange intersection = byteRange.intersection(new ByteRange(pos, posEnd));\\n                    if (intersection != null)\\n                    {\\n                        out.write(buffer, (int) intersection.getStart() - pos, (int) intersection.length());\\n                    }\\n                    pos += length;\\n                }\\n            }\\n            else\\n            {\\n                response.setHeader(\"Content-Length\", String.valueOf(this.bitstreamSize));\\n\\n                while ((length = this.bitstreamInputStream.read(buffer)) > -1)\\n                {\\n                    out.write(buffer, 0, length);\\n                }\\n                out.flush();\\n            }\\n        }\\n        finally\\n        {\\n            try\\n            {\\n                // Close the bitstream input stream so that we don\\'t leak a file descriptor\\n                this.bitstreamInputStream.close();\\n                \\n                // Close the output stream as per Cocoon docs: http://cocoon.apache.org/2.2/core-modules/core/2.2/681_1_1.html\\n                out.close();\\n            } \\n            catch (IOException ioe)\\n            {\\n                // Closing the stream threw an IOException but do we want this to propagate up to Cocoon?\\n                // No point since the user has already got the bitstream contents.\\n                log.warn(\"Caught IO exception when closing a stream: \" + ioe.getMessage());\\n            }\\n        }\\n\\n    }\\n\\n    /**\\n     * Returns the mime-type of the bitstream.\\n     * @return the type.\\n     */\\n    @Override\\n    public String getMimeType()\\n    {\\n        return this.bitstreamMimeType;\\n    }\\n    \\n    /**\\n         * Recycle\\n         */\\n    @Override\\n    public void recycle() {\\n        this.response = null;\\n        this.request = null;\\n        this.bitstreamInputStream = null;\\n        this.bitstreamSize = 0;\\n        this.bitstreamMimeType = null;\\n        this.bitstreamName = null;\\n        this.itemLastModified = null;\\n        this.tempFile = null;\\n        super.recycle();\\n    }\\n\\n\\n}',\n",
       " 'refactored': True}"
      ]
     },
     "execution_count": 40,
     "metadata": {},
     "output_type": "execute_result"
    }
   ],
   "source": [
    "refactored_data[0]"
   ]
  },
  {
   "cell_type": "code",
   "execution_count": 7,
   "metadata": {},
   "outputs": [
    {
     "data": {
      "text/plain": [
       "292"
      ]
     },
     "execution_count": 7,
     "metadata": {},
     "output_type": "execute_result"
    }
   ],
   "source": [
    "unchanged = list(filter(lambda x: not x['refactored'], refectored_data))\n",
    "len(unchanged)"
   ]
  }
 ],
 "metadata": {
  "kernelspec": {
   "display_name": "Python 3 (ipykernel)",
   "language": "python",
   "name": "python3"
  },
  "language_info": {
   "codemirror_mode": {
    "name": "ipython",
    "version": 3
   },
   "file_extension": ".py",
   "mimetype": "text/x-python",
   "name": "python",
   "nbconvert_exporter": "python",
   "pygments_lexer": "ipython3",
   "version": "3.11.5"
  }
 },
 "nbformat": 4,
 "nbformat_minor": 4
}
